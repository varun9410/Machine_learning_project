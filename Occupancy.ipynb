{
  "cells": [
    {
      "cell_type": "code",
      "source": [
        "import pandas as pd\n",
        "import numpy as np\n",
        "import matplotlib.pyplot as plt\n",
        "from sklearn.metrics import accuracy_score\n",
        "from sklearn.metrics import confusion_matrix\n",
        "from sklearn.naive_bayes import GaussianNB\n",
        "from sklearn.preprocessing import StandardScaler\n",
        "train=pd.read_csv('/content/datatraining.csv')\n",
        "test=pd.read_csv('/content/datatest.csv')"
      ],
      "metadata": {
        "id": "cWDsIupWMDhv"
      },
      "execution_count": null,
      "outputs": []
    },
    {
      "cell_type": "code",
      "source": [
        "train=train.drop(['date'],axis=1)\n",
        "test=test.drop(['date'],axis=1)"
      ],
      "metadata": {
        "id": "wyYk1KC0-Z56"
      },
      "execution_count": null,
      "outputs": []
    },
    {
      "cell_type": "code",
      "source": [
        "x_train=train.drop('Occupancy',axis=1)\n",
        "y_train=train['Occupancy']\n",
        "x_test=train.drop('Occupancy',axis=1)\n",
        "y_test=train['Occupancy']\n"
      ],
      "metadata": {
        "id": "N41bnr8QCAVc"
      },
      "execution_count": null,
      "outputs": []
    },
    {
      "cell_type": "code",
      "source": [
        "sc=StandardScaler()\n",
        "X1_train=sc.fit_transform(x_train)\n",
        "X1_test=sc.fit_transform(x_test)"
      ],
      "metadata": {
        "id": "AXL5LQdqDEkV"
      },
      "execution_count": null,
      "outputs": []
    },
    {
      "cell_type": "code",
      "source": [
        "model=GaussianNB()\n",
        "model.fit(X1_train,y_train)"
      ],
      "metadata": {
        "colab": {
          "base_uri": "https://localhost:8080/"
        },
        "id": "iGmr1e0VJvnD",
        "outputId": "c10347ed-9e2a-41fe-f478-c84dee83f1cd"
      },
      "execution_count": null,
      "outputs": [
        {
          "output_type": "execute_result",
          "data": {
            "text/plain": [
              "GaussianNB()"
            ]
          },
          "metadata": {},
          "execution_count": 105
        }
      ]
    },
    {
      "cell_type": "code",
      "source": [
        "pred=model.predict(X1_test)\n"
      ],
      "metadata": {
        "id": "Fub7RUJrK6RU"
      },
      "execution_count": null,
      "outputs": []
    },
    {
      "cell_type": "code",
      "source": [
        "score=model.score(X1_test,y_test)\n",
        "print('Prediction Score of this Model is :{}'.format(score))"
      ],
      "metadata": {
        "colab": {
          "base_uri": "https://localhost:8080/"
        },
        "id": "ntxN1CbBLBv-",
        "outputId": "9231c6ce-e0e6-4857-f222-ec4bd9a08495"
      },
      "execution_count": null,
      "outputs": [
        {
          "output_type": "stream",
          "name": "stdout",
          "text": [
            "Prediction Score of this Model is :0.9788775635515167\n"
          ]
        }
      ]
    },
    {
      "cell_type": "code",
      "source": [
        "confusion_matrix(y_test,pred)"
      ],
      "metadata": {
        "colab": {
          "base_uri": "https://localhost:8080/"
        },
        "id": "sEKhONc9LGiQ",
        "outputId": "706d3ebc-3f21-46c8-cd41-8553ee24a3e5"
      },
      "execution_count": null,
      "outputs": [
        {
          "output_type": "execute_result",
          "data": {
            "text/plain": [
              "array([[6252,  162],\n",
              "       [  10, 1719]])"
            ]
          },
          "metadata": {},
          "execution_count": 111
        }
      ]
    }
  ],
  "metadata": {
    "colab": {
      "name": "Occupancy.ipynb",
      "provenance": [],
      "collapsed_sections": []
    },
    "kernelspec": {
      "display_name": "Python 3",
      "name": "python3"
    },
    "language_info": {
      "name": "python"
    }
  },
  "nbformat": 4,
  "nbformat_minor": 0
}